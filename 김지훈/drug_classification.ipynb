{
  "nbformat": 4,
  "nbformat_minor": 0,
  "metadata": {
    "colab": {
      "provenance": [],
      "mount_file_id": "1xP1vV0xz_OlsxJduuw0hjc0fcJ2yj70v",
      "authorship_tag": "ABX9TyPHRP99J29lwFZHm9wl7UQe",
      "include_colab_link": true
    },
    "kernelspec": {
      "name": "python3",
      "display_name": "Python 3"
    },
    "language_info": {
      "name": "python"
    },
    "accelerator": "GPU",
    "gpuClass": "standard"
  },
  "cells": [
    {
      "cell_type": "markdown",
      "metadata": {
        "id": "view-in-github",
        "colab_type": "text"
      },
      "source": [
        "<a href=\"https://colab.research.google.com/github/xman227/SWbootcamp/blob/main/%EA%B9%80%EC%A7%80%ED%9B%88/drug_classification.ipynb\" target=\"_parent\"><img src=\"https://colab.research.google.com/assets/colab-badge.svg\" alt=\"Open In Colab\"/></a>"
      ]
    },
    {
      "cell_type": "markdown",
      "source": [
        "# 경구 약제 이미지 분류"
      ],
      "metadata": {
        "id": "CTakbjA3uO8a"
      }
    },
    {
      "cell_type": "code",
      "source": [
        "import tensorflow as tf\n",
        "from tensorflow import keras\n",
        "from keras.models import Sequential\n",
        "from keras.layers import Dense, Dropout, Flatten, Conv2D, MaxPooling2D, BatchNormalization, MaxPool2D\n",
        "from keras.callbacks import ModelCheckpoint, EarlyStopping\n",
        "\n",
        "from PIL import Image\n",
        "from sklearn.model_selection import train_test_split\n",
        "\n",
        "import numpy as np\n",
        "import pandas as pd\n",
        "import json\n",
        "import matplotlib.pyplot as plt\n",
        "\n",
        "import os\n",
        "import glob"
      ],
      "metadata": {
        "id": "v_9w8Sv2rFcN"
      },
      "execution_count": 1,
      "outputs": []
    },
    {
      "cell_type": "code",
      "source": [
        "tf.version"
      ],
      "metadata": {
        "colab": {
          "base_uri": "https://localhost:8080/"
        },
        "id": "UZP4G4AarViT",
        "outputId": "9f288a5d-985c-4dec-8001-27c86407aabc"
      },
      "execution_count": 2,
      "outputs": [
        {
          "output_type": "execute_result",
          "data": {
            "text/plain": [
              "<module 'tensorflow._api.v2.version' from '/usr/local/lib/python3.8/dist-packages/tensorflow/_api/v2/version/__init__.py'>"
            ]
          },
          "metadata": {},
          "execution_count": 2
        }
      ]
    },
    {
      "cell_type": "markdown",
      "source": [
        "10개 종류 약제를 분류하자"
      ],
      "metadata": {
        "id": "3GmxOekduG7T"
      }
    },
    {
      "cell_type": "code",
      "execution_count": 3,
      "metadata": {
        "id": "OeDjObaWfCnp"
      },
      "outputs": [],
      "source": [
        "!unzip -q -o /content/drive/MyDrive/drug_data.zip"
      ]
    },
    {
      "cell_type": "code",
      "source": [
        "#변수 설정\n",
        "img_width = 64\n",
        "img_height = 64\n",
        "img_dir = '/content/image'\n",
        "label_dir = \"/content/label\"\n",
        "drive = '/content/drive/MyDrive'"
      ],
      "metadata": {
        "id": "OXdoFOqUwdwi"
      },
      "execution_count": 4,
      "outputs": []
    },
    {
      "cell_type": "code",
      "source": [
        "#폴더 명\n",
        "imageDirNames = list(os.scandir(img_dir))\n",
        "\n",
        "#label 설정([K-039306, K-039320, ...])\n",
        "drug_label = [drug.name for drug in imageDirNames]\n",
        "print(drug_label)"
      ],
      "metadata": {
        "colab": {
          "base_uri": "https://localhost:8080/"
        },
        "id": "_BPoc2Uvs1KS",
        "outputId": "811e839a-83c1-4769-cdb7-9e6565be8866"
      },
      "execution_count": 5,
      "outputs": [
        {
          "output_type": "stream",
          "name": "stdout",
          "text": [
            "['K-039393', 'K-039337', 'K-039504', 'K-039478', 'K-039306', 'K-039320', 'K-039325', 'K-039338', 'K-039362', 'K-039346']\n"
          ]
        }
      ]
    },
    {
      "cell_type": "code",
      "source": [
        "#label 데이터를 불러오는 함수\n",
        "#필요한가?\n",
        "\n",
        "def getJson(drugPath):\n",
        "    with open(drugPath, 'r') as j:\n",
        "        contents = json.loads(j.read())\n",
        "\n",
        "    #print(contents)\n",
        "    return contents\n",
        "\n",
        "getJson(label_dir + \"/K-039306_json/K-039306_0_0_0_0_75_000_200.json\")['images']\n"
      ],
      "metadata": {
        "colab": {
          "base_uri": "https://localhost:8080/"
        },
        "id": "FVvFjRCcvng4",
        "outputId": "d6059fb3-4b7d-4680-9228-83d03a658ff9"
      },
      "execution_count": null,
      "outputs": [
        {
          "output_type": "execute_result",
          "data": {
            "text/plain": [
              "[{'file_name': 'K-039306_0_0_0_0_75_000_200.png',\n",
              "  'width': 976,\n",
              "  'height': 1280,\n",
              "  'imgfile': 'K-039306_0_0_0_0_75_000_200.png',\n",
              "  'drug_N': 'K-039306',\n",
              "  'drug_S': '정상알약',\n",
              "  'back_color': '검은색 배경',\n",
              "  'drug_dir': '앞면',\n",
              "  'light_color': '전구색',\n",
              "  'camera_la': 75,\n",
              "  'camera_lo': 0,\n",
              "  'size': 200,\n",
              "  'dl_idx': '39305',\n",
              "  'dl_mapping_code': 'K-039306',\n",
              "  'dl_name': '탐루신디서방정',\n",
              "  'dl_name_en': 'Tamlusindi SR Tab.',\n",
              "  'img_key': 'http://connectdi.com/design/img/drug/147618960468200180.jpg',\n",
              "  'dl_material': '탐스로신염산염',\n",
              "  'dl_material_en': 'Tamsulosin Hydrochloride',\n",
              "  'dl_custom_shape': '서방형정제',\n",
              "  'dl_company': '(주)휴온스',\n",
              "  'dl_company_en': 'Huons',\n",
              "  'di_company_mf': '(주)동구바이오제약',\n",
              "  'di_company_mf_en': 'Dongkoo Bio&Pharma',\n",
              "  'item_seq': 201603317,\n",
              "  'di_item_permit_date': '20160609',\n",
              "  'di_class_no': '[02590]기타의 비뇨생식기관 및 항문용약',\n",
              "  'di_etc_otc_code': '전문의약품',\n",
              "  'di_edi_code': '670607510',\n",
              "  'chart': '흰색의 원형 필름코팅정제',\n",
              "  'drug_shape': '원형',\n",
              "  'thick': 3.78,\n",
              "  'leng_long': 9.2,\n",
              "  'leng_short': 9.2,\n",
              "  'print_front': 'HSR',\n",
              "  'print_back': '',\n",
              "  'color_class1': '하양',\n",
              "  'color_class2': '',\n",
              "  'line_front': '',\n",
              "  'line_back': '',\n",
              "  'img_regist_ts': '20161004',\n",
              "  'form_code_name': '서방성필름코팅정',\n",
              "  'mark_code_front_anal': '',\n",
              "  'mark_code_back_anal': '',\n",
              "  'mark_code_front_img': '',\n",
              "  'mark_code_back_img': '',\n",
              "  'mark_code_front': '',\n",
              "  'mark_code_back': '',\n",
              "  'change_date': '20210204',\n",
              "  'id': 1}]"
            ]
          },
          "metadata": {},
          "execution_count": 57
        }
      ]
    },
    {
      "cell_type": "code",
      "source": [
        "#이미지 전처리\n",
        "\n",
        "X_data = []\n",
        "Y_data = []\n",
        "a = \"\"\n",
        "Image.LOAD_TRUNCATED_IMAGES = True\n",
        "print(drug_label)\n",
        "try:\n",
        "    for drugName in drug_label:\n",
        "        #print(*glob.glob(f'{img_dir}/{drugName}/*.png'), sep = '\\n')\n",
        "\n",
        "        print(drugName)\n",
        "        for drugImageName in glob.glob(f'{img_dir}/{drugName}/*.png'):\n",
        "            a = drugImageName\n",
        "            #print(drugImageName)\n",
        "            img = Image.open(drugImageName)\n",
        "            img = img.convert(\"RGB\")\n",
        "            img = img.resize((img_width, img_height))\n",
        "            X_data.append(np.array(img))\n",
        "            Y_data.append(drug_label.index(drugName))\n",
        "            #display(img)\n",
        "except:\n",
        "    #잘못된 이미지 검출\n",
        "    print(a)\n",
        "\n",
        "\n",
        "\n",
        "\n"
      ],
      "metadata": {
        "colab": {
          "base_uri": "https://localhost:8080/"
        },
        "id": "_ymA1D2iy21A",
        "outputId": "976ccd84-f7f7-4e0a-feca-fcfe5c749a9b"
      },
      "execution_count": 18,
      "outputs": [
        {
          "output_type": "stream",
          "name": "stdout",
          "text": [
            "['K-039393', 'K-039337', 'K-039504', 'K-039478', 'K-039306', 'K-039320', 'K-039325', 'K-039338', 'K-039362', 'K-039346']\n",
            "K-039393\n",
            "K-039337\n",
            "K-039504\n",
            "K-039478\n",
            "K-039306\n",
            "K-039320\n",
            "K-039325\n",
            "K-039338\n",
            "K-039362\n",
            "K-039346\n"
          ]
        }
      ]
    },
    {
      "cell_type": "code",
      "source": [
        "print(len(X_data))\n",
        "\n",
        "# 이미지 배열 저장\n",
        "np.save(drive + '/x_drug.npy', tf.keras.utils.normalize(X_data))\n",
        "np.save(drive + '/y_drug.npy', Y_data)"
      ],
      "metadata": {
        "colab": {
          "base_uri": "https://localhost:8080/"
        },
        "id": "LE5s9p_uujAh",
        "outputId": "dac3549a-fa6c-467c-fd7a-4d2d16c5f790"
      },
      "execution_count": 19,
      "outputs": [
        {
          "output_type": "stream",
          "name": "stdout",
          "text": [
            "2268\n"
          ]
        }
      ]
    },
    {
      "cell_type": "code",
      "source": [
        "#전처리 후 저장된 데이터 읽어오기\n",
        "X_data = np.load(drive+'/x_drug.npy')\n",
        "Y_data = np.load(drive+'/y_drug.npy')\n",
        "\n",
        "\n",
        "#훈련 데이터 분할\n",
        "X_train, X_test, Y_train, Y_test = train_test_split(X_data, Y_data, test_size = 0.2, random_state=100)\n",
        "X_train, X_val, Y_train, Y_val = train_test_split(X_train, Y_train, test_size = 0.2, random_state=100)\n",
        "print('훈련 샘플 : %d개' %len(X_train))\n",
        "print('검증 샘플 : %d개' %len(X_val))\n",
        "print('테스트 샘플 : %d개' %len(X_test))\n",
        "\n",
        "print(X_train.shape)\n",
        "print(Y_train.shape)"
      ],
      "metadata": {
        "id": "TwtUCE96tfMe",
        "colab": {
          "base_uri": "https://localhost:8080/"
        },
        "outputId": "10d2a65c-3583-45df-db65-720955557131"
      },
      "execution_count": 20,
      "outputs": [
        {
          "output_type": "stream",
          "name": "stdout",
          "text": [
            "훈련 샘플 : 1451개\n",
            "검증 샘플 : 363개\n",
            "테스트 샘플 : 454개\n",
            "(1451, 64, 64, 3)\n",
            "(1451,)\n"
          ]
        }
      ]
    },
    {
      "cell_type": "code",
      "source": [
        "Y_train"
      ],
      "metadata": {
        "colab": {
          "base_uri": "https://localhost:8080/"
        },
        "id": "UdOfYVFIV1Gw",
        "outputId": "439b1748-bc3a-4f13-9723-33cf4dcc5223"
      },
      "execution_count": 21,
      "outputs": [
        {
          "output_type": "execute_result",
          "data": {
            "text/plain": [
              "array([2, 2, 7, ..., 0, 9, 2])"
            ]
          },
          "metadata": {},
          "execution_count": 21
        }
      ]
    },
    {
      "cell_type": "code",
      "source": [
        "#모델(저번에 쓰던 모델 그대로)\n",
        "\n",
        "model = Sequential()\n",
        "\n",
        "model.add(Conv2D(32,(3,3), input_shape=(img_width,img_height,3), activation='relu'))\n",
        "model.add(MaxPooling2D((3,3)))\n",
        "#model.add(Dropout(0.25))\n",
        "model.add(Conv2D(64, (2,2), activation = 'relu', padding = 'same'))\n",
        "model.add(MaxPooling2D((2,2)))\n",
        "model.add(MaxPool2D(2))\n",
        "model.add(Conv2D(128, kernel_size=3, activation='relu', padding='same'))\n",
        "model.add(Flatten())\n",
        "model.add(Dense(len(drug_label), activation = 'sigmoid'))\n",
        "model.summary()\n",
        "\n",
        "model.compile(loss = 'sparse_categorical_crossentropy',\n",
        "              optimizer='adam',\n",
        "              metrics = ['accuracy'])\n",
        "\n",
        "MODEL_DIR = \"./model/\"\n",
        "\n",
        "if not os.path.exists(MODEL_DIR):\n",
        "  os.mkdir(MODEL_DIR)\n",
        "\n",
        "modelpath = './model/{epoch:02d}-{val_loss:.4f}.hdf5'\n",
        "checkpointer = ModelCheckpoint(filepath=modelpath, monitor = 'val_loss', verbose=1, save_best_only=True)\n",
        "\n",
        "early_stopping_callback = EarlyStopping(monitor='val_loss', patience=10)\n",
        "\n",
        "\n",
        "#학습\n",
        "history = model.fit(X_train, Y_train,\n",
        "                    validation_data = (X_val, Y_val),\n",
        "                    epochs=50,\n",
        "                    verbose=1,\n",
        "                    batch_size = 20,\n",
        "                    callbacks=[early_stopping_callback, checkpointer])"
      ],
      "metadata": {
        "colab": {
          "base_uri": "https://localhost:8080/"
        },
        "id": "__wCrKyRRkEU",
        "outputId": "3104c1ab-f047-4d25-f88c-6bd13096e5de"
      },
      "execution_count": 23,
      "outputs": [
        {
          "output_type": "stream",
          "name": "stdout",
          "text": [
            "Model: \"sequential_6\"\n",
            "_________________________________________________________________\n",
            " Layer (type)                Output Shape              Param #   \n",
            "=================================================================\n",
            " conv2d_18 (Conv2D)          (None, 62, 62, 32)        896       \n",
            "                                                                 \n",
            " max_pooling2d_18 (MaxPoolin  (None, 20, 20, 32)       0         \n",
            " g2D)                                                            \n",
            "                                                                 \n",
            " conv2d_19 (Conv2D)          (None, 20, 20, 64)        8256      \n",
            "                                                                 \n",
            " max_pooling2d_19 (MaxPoolin  (None, 10, 10, 64)       0         \n",
            " g2D)                                                            \n",
            "                                                                 \n",
            " max_pooling2d_20 (MaxPoolin  (None, 5, 5, 64)         0         \n",
            " g2D)                                                            \n",
            "                                                                 \n",
            " conv2d_20 (Conv2D)          (None, 5, 5, 128)         73856     \n",
            "                                                                 \n",
            " flatten_6 (Flatten)         (None, 3200)              0         \n",
            "                                                                 \n",
            " dense_6 (Dense)             (None, 10)                32010     \n",
            "                                                                 \n",
            "=================================================================\n",
            "Total params: 115,018\n",
            "Trainable params: 115,018\n",
            "Non-trainable params: 0\n",
            "_________________________________________________________________\n",
            "Epoch 1/50\n",
            "66/73 [==========================>...] - ETA: 0s - loss: 1.4885 - accuracy: 0.3318\n",
            "Epoch 1: val_loss improved from inf to 1.10148, saving model to ./model/01-1.1015.hdf5\n",
            "73/73 [==============================] - 1s 8ms/step - loss: 1.4543 - accuracy: 0.3411 - val_loss: 1.1015 - val_accuracy: 0.3884\n",
            "Epoch 2/50\n",
            "72/73 [============================>.] - ETA: 0s - loss: 1.0620 - accuracy: 0.4868\n",
            "Epoch 2: val_loss improved from 1.10148 to 0.92058, saving model to ./model/02-0.9206.hdf5\n",
            "73/73 [==============================] - 0s 6ms/step - loss: 1.0610 - accuracy: 0.4866 - val_loss: 0.9206 - val_accuracy: 0.5592\n",
            "Epoch 3/50\n",
            "62/73 [========================>.....] - ETA: 0s - loss: 0.8913 - accuracy: 0.5815\n",
            "Epoch 3: val_loss improved from 0.92058 to 0.80446, saving model to ./model/03-0.8045.hdf5\n",
            "73/73 [==============================] - 0s 6ms/step - loss: 0.8784 - accuracy: 0.5741 - val_loss: 0.8045 - val_accuracy: 0.5289\n",
            "Epoch 4/50\n",
            "66/73 [==========================>...] - ETA: 0s - loss: 0.7318 - accuracy: 0.6273\n",
            "Epoch 4: val_loss improved from 0.80446 to 0.61358, saving model to ./model/04-0.6136.hdf5\n",
            "73/73 [==============================] - 0s 6ms/step - loss: 0.7332 - accuracy: 0.6272 - val_loss: 0.6136 - val_accuracy: 0.7300\n",
            "Epoch 5/50\n",
            "66/73 [==========================>...] - ETA: 0s - loss: 0.6732 - accuracy: 0.6561\n",
            "Epoch 5: val_loss improved from 0.61358 to 0.58790, saving model to ./model/05-0.5879.hdf5\n",
            "73/73 [==============================] - 0s 5ms/step - loss: 0.6647 - accuracy: 0.6582 - val_loss: 0.5879 - val_accuracy: 0.7934\n",
            "Epoch 6/50\n",
            "64/73 [=========================>....] - ETA: 0s - loss: 0.5684 - accuracy: 0.7195\n",
            "Epoch 6: val_loss did not improve from 0.58790\n",
            "73/73 [==============================] - 0s 5ms/step - loss: 0.5645 - accuracy: 0.7181 - val_loss: 0.6055 - val_accuracy: 0.6777\n",
            "Epoch 7/50\n",
            "66/73 [==========================>...] - ETA: 0s - loss: 0.5515 - accuracy: 0.7053\n",
            "Epoch 7: val_loss improved from 0.58790 to 0.55455, saving model to ./model/07-0.5545.hdf5\n",
            "73/73 [==============================] - 0s 5ms/step - loss: 0.5610 - accuracy: 0.7057 - val_loss: 0.5545 - val_accuracy: 0.6501\n",
            "Epoch 8/50\n",
            "69/73 [===========================>..] - ETA: 0s - loss: 0.4722 - accuracy: 0.7464\n",
            "Epoch 8: val_loss improved from 0.55455 to 0.41047, saving model to ./model/08-0.4105.hdf5\n",
            "73/73 [==============================] - 0s 5ms/step - loss: 0.4668 - accuracy: 0.7498 - val_loss: 0.4105 - val_accuracy: 0.7603\n",
            "Epoch 9/50\n",
            "67/73 [==========================>...] - ETA: 0s - loss: 0.4084 - accuracy: 0.7821\n",
            "Epoch 9: val_loss improved from 0.41047 to 0.34009, saving model to ./model/09-0.3401.hdf5\n",
            "73/73 [==============================] - 0s 5ms/step - loss: 0.4067 - accuracy: 0.7815 - val_loss: 0.3401 - val_accuracy: 0.8209\n",
            "Epoch 10/50\n",
            "65/73 [=========================>....] - ETA: 0s - loss: 0.4742 - accuracy: 0.7592\n",
            "Epoch 10: val_loss did not improve from 0.34009\n",
            "73/73 [==============================] - 0s 5ms/step - loss: 0.4703 - accuracy: 0.7609 - val_loss: 0.3936 - val_accuracy: 0.8347\n",
            "Epoch 11/50\n",
            "71/73 [============================>.] - ETA: 0s - loss: 0.3969 - accuracy: 0.7803\n",
            "Epoch 11: val_loss did not improve from 0.34009\n",
            "73/73 [==============================] - 0s 5ms/step - loss: 0.3957 - accuracy: 0.7815 - val_loss: 0.3762 - val_accuracy: 0.7713\n",
            "Epoch 12/50\n",
            "70/73 [===========================>..] - ETA: 0s - loss: 0.3841 - accuracy: 0.7893\n",
            "Epoch 12: val_loss did not improve from 0.34009\n",
            "73/73 [==============================] - 0s 5ms/step - loss: 0.3832 - accuracy: 0.7884 - val_loss: 0.3859 - val_accuracy: 0.7713\n",
            "Epoch 13/50\n",
            "64/73 [=========================>....] - ETA: 0s - loss: 0.3410 - accuracy: 0.8031\n",
            "Epoch 13: val_loss did not improve from 0.34009\n",
            "73/73 [==============================] - 0s 5ms/step - loss: 0.3779 - accuracy: 0.7953 - val_loss: 1.1039 - val_accuracy: 0.6639\n",
            "Epoch 14/50\n",
            "65/73 [=========================>....] - ETA: 0s - loss: 0.5052 - accuracy: 0.7415\n",
            "Epoch 14: val_loss did not improve from 0.34009\n",
            "73/73 [==============================] - 0s 5ms/step - loss: 0.4967 - accuracy: 0.7443 - val_loss: 0.3581 - val_accuracy: 0.8485\n",
            "Epoch 15/50\n",
            "68/73 [==========================>...] - ETA: 0s - loss: 0.3820 - accuracy: 0.7926\n",
            "Epoch 15: val_loss improved from 0.34009 to 0.33013, saving model to ./model/15-0.3301.hdf5\n",
            "73/73 [==============================] - 0s 5ms/step - loss: 0.3802 - accuracy: 0.7939 - val_loss: 0.3301 - val_accuracy: 0.8264\n",
            "Epoch 16/50\n",
            "66/73 [==========================>...] - ETA: 0s - loss: 0.3582 - accuracy: 0.7856\n",
            "Epoch 16: val_loss did not improve from 0.33013\n",
            "73/73 [==============================] - 0s 5ms/step - loss: 0.3742 - accuracy: 0.7788 - val_loss: 0.7247 - val_accuracy: 0.6832\n",
            "Epoch 17/50\n",
            "67/73 [==========================>...] - ETA: 0s - loss: 0.4537 - accuracy: 0.7724\n",
            "Epoch 17: val_loss did not improve from 0.33013\n",
            "73/73 [==============================] - 0s 5ms/step - loss: 0.4497 - accuracy: 0.7733 - val_loss: 0.3580 - val_accuracy: 0.7989\n",
            "Epoch 18/50\n",
            "67/73 [==========================>...] - ETA: 0s - loss: 0.3271 - accuracy: 0.8112\n",
            "Epoch 18: val_loss improved from 0.33013 to 0.30191, saving model to ./model/18-0.3019.hdf5\n",
            "73/73 [==============================] - 0s 5ms/step - loss: 0.3273 - accuracy: 0.8125 - val_loss: 0.3019 - val_accuracy: 0.8485\n",
            "Epoch 19/50\n",
            "66/73 [==========================>...] - ETA: 0s - loss: 0.3305 - accuracy: 0.8258\n",
            "Epoch 19: val_loss did not improve from 0.30191\n",
            "73/73 [==============================] - 0s 5ms/step - loss: 0.3275 - accuracy: 0.8270 - val_loss: 0.3494 - val_accuracy: 0.8072\n",
            "Epoch 20/50\n",
            "67/73 [==========================>...] - ETA: 0s - loss: 0.3059 - accuracy: 0.8284\n",
            "Epoch 20: val_loss did not improve from 0.30191\n",
            "73/73 [==============================] - 0s 5ms/step - loss: 0.3075 - accuracy: 0.8256 - val_loss: 0.3049 - val_accuracy: 0.8127\n",
            "Epoch 21/50\n",
            "69/73 [===========================>..] - ETA: 0s - loss: 0.3900 - accuracy: 0.8246\n",
            "Epoch 21: val_loss did not improve from 0.30191\n",
            "73/73 [==============================] - 0s 5ms/step - loss: 0.3905 - accuracy: 0.8236 - val_loss: 0.3550 - val_accuracy: 0.8595\n",
            "Epoch 22/50\n",
            "70/73 [===========================>..] - ETA: 0s - loss: 0.3368 - accuracy: 0.8257\n",
            "Epoch 22: val_loss improved from 0.30191 to 0.29346, saving model to ./model/22-0.2935.hdf5\n",
            "73/73 [==============================] - 0s 5ms/step - loss: 0.3351 - accuracy: 0.8256 - val_loss: 0.2935 - val_accuracy: 0.8264\n",
            "Epoch 23/50\n",
            "66/73 [==========================>...] - ETA: 0s - loss: 0.3070 - accuracy: 0.8265\n",
            "Epoch 23: val_loss improved from 0.29346 to 0.29212, saving model to ./model/23-0.2921.hdf5\n",
            "73/73 [==============================] - 0s 5ms/step - loss: 0.3024 - accuracy: 0.8325 - val_loss: 0.2921 - val_accuracy: 0.8182\n",
            "Epoch 24/50\n",
            "68/73 [==========================>...] - ETA: 0s - loss: 0.3049 - accuracy: 0.8375\n",
            "Epoch 24: val_loss improved from 0.29212 to 0.28528, saving model to ./model/24-0.2853.hdf5\n",
            "73/73 [==============================] - 0s 5ms/step - loss: 0.3028 - accuracy: 0.8367 - val_loss: 0.2853 - val_accuracy: 0.8209\n",
            "Epoch 25/50\n",
            "68/73 [==========================>...] - ETA: 0s - loss: 0.2837 - accuracy: 0.8397\n",
            "Epoch 25: val_loss did not improve from 0.28528\n",
            "73/73 [==============================] - 0s 5ms/step - loss: 0.2857 - accuracy: 0.8367 - val_loss: 0.2876 - val_accuracy: 0.8457\n",
            "Epoch 26/50\n",
            "64/73 [=========================>....] - ETA: 0s - loss: 0.3050 - accuracy: 0.8320\n",
            "Epoch 26: val_loss did not improve from 0.28528\n",
            "73/73 [==============================] - 0s 5ms/step - loss: 0.3041 - accuracy: 0.8318 - val_loss: 0.2996 - val_accuracy: 0.8402\n",
            "Epoch 27/50\n",
            "67/73 [==========================>...] - ETA: 0s - loss: 0.3056 - accuracy: 0.8381\n",
            "Epoch 27: val_loss improved from 0.28528 to 0.28372, saving model to ./model/27-0.2837.hdf5\n",
            "73/73 [==============================] - 0s 5ms/step - loss: 0.3027 - accuracy: 0.8415 - val_loss: 0.2837 - val_accuracy: 0.8209\n",
            "Epoch 28/50\n",
            "68/73 [==========================>...] - ETA: 0s - loss: 0.2644 - accuracy: 0.8625\n",
            "Epoch 28: val_loss did not improve from 0.28372\n",
            "73/73 [==============================] - 0s 5ms/step - loss: 0.2598 - accuracy: 0.8677 - val_loss: 0.3086 - val_accuracy: 0.7989\n",
            "Epoch 29/50\n",
            "70/73 [===========================>..] - ETA: 0s - loss: 0.2442 - accuracy: 0.8850\n",
            "Epoch 29: val_loss improved from 0.28372 to 0.23553, saving model to ./model/29-0.2355.hdf5\n",
            "73/73 [==============================] - 0s 5ms/step - loss: 0.2453 - accuracy: 0.8849 - val_loss: 0.2355 - val_accuracy: 0.8733\n",
            "Epoch 30/50\n",
            "67/73 [==========================>...] - ETA: 0s - loss: 0.2330 - accuracy: 0.8843\n",
            "Epoch 30: val_loss improved from 0.23553 to 0.23299, saving model to ./model/30-0.2330.hdf5\n",
            "73/73 [==============================] - 0s 5ms/step - loss: 0.2409 - accuracy: 0.8787 - val_loss: 0.2330 - val_accuracy: 0.8815\n",
            "Epoch 31/50\n",
            "66/73 [==========================>...] - ETA: 0s - loss: 0.2264 - accuracy: 0.8894\n",
            "Epoch 31: val_loss did not improve from 0.23299\n",
            "73/73 [==============================] - 0s 5ms/step - loss: 0.2268 - accuracy: 0.8897 - val_loss: 0.2383 - val_accuracy: 0.8843\n",
            "Epoch 32/50\n",
            "65/73 [=========================>....] - ETA: 0s - loss: 0.2270 - accuracy: 0.8800\n",
            "Epoch 32: val_loss did not improve from 0.23299\n",
            "73/73 [==============================] - 0s 5ms/step - loss: 0.2254 - accuracy: 0.8815 - val_loss: 0.2501 - val_accuracy: 0.8760\n",
            "Epoch 33/50\n",
            "64/73 [=========================>....] - ETA: 0s - loss: 0.2100 - accuracy: 0.8938\n",
            "Epoch 33: val_loss improved from 0.23299 to 0.21530, saving model to ./model/33-0.2153.hdf5\n",
            "73/73 [==============================] - 0s 5ms/step - loss: 0.2120 - accuracy: 0.8932 - val_loss: 0.2153 - val_accuracy: 0.8898\n",
            "Epoch 34/50\n",
            "64/73 [=========================>....] - ETA: 0s - loss: 0.3291 - accuracy: 0.8531\n",
            "Epoch 34: val_loss did not improve from 0.21530\n",
            "73/73 [==============================] - 0s 5ms/step - loss: 0.3232 - accuracy: 0.8573 - val_loss: 0.2580 - val_accuracy: 0.8760\n",
            "Epoch 35/50\n",
            "65/73 [=========================>....] - ETA: 0s - loss: 0.2251 - accuracy: 0.8977\n",
            "Epoch 35: val_loss improved from 0.21530 to 0.21025, saving model to ./model/35-0.2103.hdf5\n",
            "73/73 [==============================] - 0s 5ms/step - loss: 0.2192 - accuracy: 0.8987 - val_loss: 0.2103 - val_accuracy: 0.9036\n",
            "Epoch 36/50\n",
            "64/73 [=========================>....] - ETA: 0s - loss: 0.2235 - accuracy: 0.8938\n",
            "Epoch 36: val_loss did not improve from 0.21025\n",
            "73/73 [==============================] - 0s 5ms/step - loss: 0.2237 - accuracy: 0.8925 - val_loss: 0.2203 - val_accuracy: 0.8981\n",
            "Epoch 37/50\n",
            "66/73 [==========================>...] - ETA: 0s - loss: 0.2075 - accuracy: 0.9076\n",
            "Epoch 37: val_loss improved from 0.21025 to 0.20441, saving model to ./model/37-0.2044.hdf5\n",
            "73/73 [==============================] - 0s 5ms/step - loss: 0.2029 - accuracy: 0.9090 - val_loss: 0.2044 - val_accuracy: 0.8981\n",
            "Epoch 38/50\n",
            "65/73 [=========================>....] - ETA: 0s - loss: 0.2764 - accuracy: 0.8723\n",
            "Epoch 38: val_loss did not improve from 0.20441\n",
            "73/73 [==============================] - 0s 5ms/step - loss: 0.2778 - accuracy: 0.8746 - val_loss: 0.3726 - val_accuracy: 0.8127\n",
            "Epoch 39/50\n",
            "64/73 [=========================>....] - ETA: 0s - loss: 0.2275 - accuracy: 0.8930\n",
            "Epoch 39: val_loss improved from 0.20441 to 0.19976, saving model to ./model/39-0.1998.hdf5\n",
            "73/73 [==============================] - 0s 5ms/step - loss: 0.2268 - accuracy: 0.8939 - val_loss: 0.1998 - val_accuracy: 0.9118\n",
            "Epoch 40/50\n",
            "65/73 [=========================>....] - ETA: 0s - loss: 0.1712 - accuracy: 0.9277\n",
            "Epoch 40: val_loss improved from 0.19976 to 0.19603, saving model to ./model/40-0.1960.hdf5\n",
            "73/73 [==============================] - 0s 5ms/step - loss: 0.1743 - accuracy: 0.9242 - val_loss: 0.1960 - val_accuracy: 0.8953\n",
            "Epoch 41/50\n",
            "66/73 [==========================>...] - ETA: 0s - loss: 0.2165 - accuracy: 0.8939\n",
            "Epoch 41: val_loss did not improve from 0.19603\n",
            "73/73 [==============================] - 0s 5ms/step - loss: 0.2150 - accuracy: 0.8959 - val_loss: 0.2932 - val_accuracy: 0.8871\n",
            "Epoch 42/50\n",
            "67/73 [==========================>...] - ETA: 0s - loss: 0.1778 - accuracy: 0.9216\n",
            "Epoch 42: val_loss did not improve from 0.19603\n",
            "73/73 [==============================] - 0s 5ms/step - loss: 0.1772 - accuracy: 0.9228 - val_loss: 0.2041 - val_accuracy: 0.9091\n",
            "Epoch 43/50\n",
            "63/73 [========================>.....] - ETA: 0s - loss: 0.1831 - accuracy: 0.9222\n",
            "Epoch 43: val_loss improved from 0.19603 to 0.18634, saving model to ./model/43-0.1863.hdf5\n",
            "73/73 [==============================] - 0s 5ms/step - loss: 0.1783 - accuracy: 0.9249 - val_loss: 0.1863 - val_accuracy: 0.9146\n",
            "Epoch 44/50\n",
            "66/73 [==========================>...] - ETA: 0s - loss: 0.1824 - accuracy: 0.9182\n",
            "Epoch 44: val_loss did not improve from 0.18634\n",
            "73/73 [==============================] - 0s 5ms/step - loss: 0.1802 - accuracy: 0.9194 - val_loss: 0.1872 - val_accuracy: 0.9256\n",
            "Epoch 45/50\n",
            "64/73 [=========================>....] - ETA: 0s - loss: 0.1702 - accuracy: 0.9227\n",
            "Epoch 45: val_loss did not improve from 0.18634\n",
            "73/73 [==============================] - 0s 5ms/step - loss: 0.1724 - accuracy: 0.9180 - val_loss: 0.2490 - val_accuracy: 0.8705\n",
            "Epoch 46/50\n",
            "63/73 [========================>.....] - ETA: 0s - loss: 0.1465 - accuracy: 0.9333\n",
            "Epoch 46: val_loss improved from 0.18634 to 0.15059, saving model to ./model/46-0.1506.hdf5\n",
            "73/73 [==============================] - 0s 5ms/step - loss: 0.1447 - accuracy: 0.9338 - val_loss: 0.1506 - val_accuracy: 0.9449\n",
            "Epoch 47/50\n",
            "62/73 [========================>.....] - ETA: 0s - loss: 0.1406 - accuracy: 0.9435\n",
            "Epoch 47: val_loss did not improve from 0.15059\n",
            "73/73 [==============================] - 0s 5ms/step - loss: 0.1433 - accuracy: 0.9414 - val_loss: 0.1892 - val_accuracy: 0.9201\n",
            "Epoch 48/50\n",
            "67/73 [==========================>...] - ETA: 0s - loss: 0.1694 - accuracy: 0.9239\n",
            "Epoch 48: val_loss did not improve from 0.15059\n",
            "73/73 [==============================] - 0s 6ms/step - loss: 0.1670 - accuracy: 0.9263 - val_loss: 0.1545 - val_accuracy: 0.9311\n",
            "Epoch 49/50\n",
            "66/73 [==========================>...] - ETA: 0s - loss: 0.1347 - accuracy: 0.9379\n",
            "Epoch 49: val_loss did not improve from 0.15059\n",
            "73/73 [==============================] - 0s 5ms/step - loss: 0.1502 - accuracy: 0.9352 - val_loss: 0.7336 - val_accuracy: 0.7851\n",
            "Epoch 50/50\n",
            "65/73 [=========================>....] - ETA: 0s - loss: 0.2790 - accuracy: 0.8938\n",
            "Epoch 50: val_loss did not improve from 0.15059\n",
            "73/73 [==============================] - 0s 5ms/step - loss: 0.2702 - accuracy: 0.8959 - val_loss: 0.1829 - val_accuracy: 0.9229\n"
          ]
        }
      ]
    },
    {
      "cell_type": "code",
      "source": [
        "#모델 검증(저번에 쓰던 모델 그대로)\n",
        "\n",
        "val_eval = model.evaluate(X_val, Y_val)\n",
        "print(\"\\n Val Loss: %.4f\" % (val_eval[0]))\n",
        "print(\"\\n Val Accuracy: %.4f\\n\" % (val_eval[1]))\n",
        "test_eval = model.evaluate(X_test, Y_test)\n",
        "print(\"\\n Test Loss: %.4f\" % (test_eval[0]))\n",
        "print(\"\\n Test Accuracy: %.4f\" % (test_eval[1]))"
      ],
      "metadata": {
        "colab": {
          "base_uri": "https://localhost:8080/"
        },
        "id": "uSz095SGVNk6",
        "outputId": "b6bcaafe-4ec2-4e93-e96a-a1e8cd09860f"
      },
      "execution_count": 24,
      "outputs": [
        {
          "output_type": "stream",
          "name": "stdout",
          "text": [
            "12/12 [==============================] - 0s 4ms/step - loss: 0.1829 - accuracy: 0.9229\n",
            "\n",
            " Val Loss: 0.1829\n",
            "\n",
            " Val Accuracy: 0.9229\n",
            "\n",
            "15/15 [==============================] - 0s 8ms/step - loss: 0.1672 - accuracy: 0.9383\n",
            "\n",
            " Test Loss: 0.1672\n",
            "\n",
            " Test Accuracy: 0.9383\n"
          ]
        }
      ]
    },
    {
      "cell_type": "code",
      "source": [
        "#파인튜닝\n",
        "\n"
      ],
      "metadata": {
        "id": "nxHrD1wlZten"
      },
      "execution_count": null,
      "outputs": []
    }
  ]
}