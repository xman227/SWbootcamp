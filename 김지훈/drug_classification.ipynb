{
  "nbformat": 4,
  "nbformat_minor": 0,
  "metadata": {
    "colab": {
      "provenance": [],
      "mount_file_id": "1xP1vV0xz_OlsxJduuw0hjc0fcJ2yj70v",
      "authorship_tag": "ABX9TyM2Q7cPccPMt9pd6lf+LTMi",
      "include_colab_link": true
    },
    "kernelspec": {
      "name": "python3",
      "display_name": "Python 3"
    },
    "language_info": {
      "name": "python"
    }
  },
  "cells": [
    {
      "cell_type": "markdown",
      "metadata": {
        "id": "view-in-github",
        "colab_type": "text"
      },
      "source": [
        "<a href=\"https://colab.research.google.com/github/xman227/SWbootcamp/blob/main/%EA%B9%80%EC%A7%80%ED%9B%88/drug_classification.ipynb\" target=\"_parent\"><img src=\"https://colab.research.google.com/assets/colab-badge.svg\" alt=\"Open In Colab\"/></a>"
      ]
    },
    {
      "cell_type": "markdown",
      "source": [
        "# 경구 약제 이미지 분류"
      ],
      "metadata": {
        "id": "CTakbjA3uO8a"
      }
    },
    {
      "cell_type": "code",
      "source": [
        "import tensorflow as tf\n",
        "from tensorflow import keras\n",
        "from keras.models import Sequential\n",
        "from keras.layers import Dense, Dropout, Flatten, Conv2D, MaxPooling2D, BatchNormalization, MaxPool2D\n",
        "from keras.callbacks import ModelCheckpoint, EarlyStopping\n",
        "\n",
        "from PIL import Image\n",
        "from sklearn.model_selection import train_test_split\n",
        "\n",
        "import numpy as np\n",
        "import pandas as pd\n",
        "import json\n",
        "import matplotlib.pyplot as plt\n",
        "\n",
        "import os\n",
        "import glob"
      ],
      "metadata": {
        "id": "v_9w8Sv2rFcN"
      },
      "execution_count": 34,
      "outputs": []
    },
    {
      "cell_type": "code",
      "source": [
        "tf.version"
      ],
      "metadata": {
        "colab": {
          "base_uri": "https://localhost:8080/"
        },
        "id": "UZP4G4AarViT",
        "outputId": "77913a9e-b81d-46a5-d652-dd2404b3fc06"
      },
      "execution_count": 11,
      "outputs": [
        {
          "output_type": "execute_result",
          "data": {
            "text/plain": [
              "<module 'tensorflow._api.v2.version' from '/usr/local/lib/python3.8/dist-packages/tensorflow/_api/v2/version/__init__.py'>"
            ]
          },
          "metadata": {},
          "execution_count": 11
        }
      ]
    },
    {
      "cell_type": "markdown",
      "source": [
        "10개 종류 약제를 분류하자"
      ],
      "metadata": {
        "id": "3GmxOekduG7T"
      }
    },
    {
      "cell_type": "code",
      "execution_count": 20,
      "metadata": {
        "id": "OeDjObaWfCnp"
      },
      "outputs": [],
      "source": [
        "!unzip -q -o /content/drive/MyDrive/drug_data.zip"
      ]
    },
    {
      "cell_type": "code",
      "source": [
        "#변수 설정\n",
        "img_width = 64\n",
        "img_height = 64\n",
        "img_dir = '/content/image'\n",
        "label_dir = \"/content/label\"\n",
        "drive = '/content/drive/MyDrive'"
      ],
      "metadata": {
        "id": "OXdoFOqUwdwi"
      },
      "execution_count": 133,
      "outputs": []
    },
    {
      "cell_type": "code",
      "source": [
        "#폴더 명\n",
        "imageDirNames = list(os.scandir(img_dir))\n",
        "\n",
        "#label 설정([K-039306, K-039320, ...])\n",
        "drug_label = [drug.name for drug in imageDirNames]\n",
        "print(drug_label)"
      ],
      "metadata": {
        "colab": {
          "base_uri": "https://localhost:8080/"
        },
        "id": "_BPoc2Uvs1KS",
        "outputId": "d55b344f-70be-4b1f-fb0f-d9d36ec772dc"
      },
      "execution_count": 31,
      "outputs": [
        {
          "output_type": "stream",
          "name": "stdout",
          "text": [
            "['K-039320', 'K-039346', 'K-039504', 'K-039306', 'K-039393', 'K-039362', 'K-039338', 'K-039478', 'K-039337', 'K-039325']\n"
          ]
        }
      ]
    },
    {
      "cell_type": "code",
      "source": [
        "#label 데이터를 불러오는 함수\n",
        "#필요한가?\n",
        "\n",
        "def getJson(drugPath):\n",
        "    with open(drugPath, 'r') as j:\n",
        "        contents = json.loads(j.read())\n",
        "\n",
        "    #print(contents)\n",
        "    return contents\n",
        "\n",
        "getJson(label_dir + \"/K-039306_json/K-039306_0_0_0_0_75_000_200.json\")['images']\n"
      ],
      "metadata": {
        "colab": {
          "base_uri": "https://localhost:8080/"
        },
        "id": "FVvFjRCcvng4",
        "outputId": "d6059fb3-4b7d-4680-9228-83d03a658ff9"
      },
      "execution_count": 57,
      "outputs": [
        {
          "output_type": "execute_result",
          "data": {
            "text/plain": [
              "[{'file_name': 'K-039306_0_0_0_0_75_000_200.png',\n",
              "  'width': 976,\n",
              "  'height': 1280,\n",
              "  'imgfile': 'K-039306_0_0_0_0_75_000_200.png',\n",
              "  'drug_N': 'K-039306',\n",
              "  'drug_S': '정상알약',\n",
              "  'back_color': '검은색 배경',\n",
              "  'drug_dir': '앞면',\n",
              "  'light_color': '전구색',\n",
              "  'camera_la': 75,\n",
              "  'camera_lo': 0,\n",
              "  'size': 200,\n",
              "  'dl_idx': '39305',\n",
              "  'dl_mapping_code': 'K-039306',\n",
              "  'dl_name': '탐루신디서방정',\n",
              "  'dl_name_en': 'Tamlusindi SR Tab.',\n",
              "  'img_key': 'http://connectdi.com/design/img/drug/147618960468200180.jpg',\n",
              "  'dl_material': '탐스로신염산염',\n",
              "  'dl_material_en': 'Tamsulosin Hydrochloride',\n",
              "  'dl_custom_shape': '서방형정제',\n",
              "  'dl_company': '(주)휴온스',\n",
              "  'dl_company_en': 'Huons',\n",
              "  'di_company_mf': '(주)동구바이오제약',\n",
              "  'di_company_mf_en': 'Dongkoo Bio&Pharma',\n",
              "  'item_seq': 201603317,\n",
              "  'di_item_permit_date': '20160609',\n",
              "  'di_class_no': '[02590]기타의 비뇨생식기관 및 항문용약',\n",
              "  'di_etc_otc_code': '전문의약품',\n",
              "  'di_edi_code': '670607510',\n",
              "  'chart': '흰색의 원형 필름코팅정제',\n",
              "  'drug_shape': '원형',\n",
              "  'thick': 3.78,\n",
              "  'leng_long': 9.2,\n",
              "  'leng_short': 9.2,\n",
              "  'print_front': 'HSR',\n",
              "  'print_back': '',\n",
              "  'color_class1': '하양',\n",
              "  'color_class2': '',\n",
              "  'line_front': '',\n",
              "  'line_back': '',\n",
              "  'img_regist_ts': '20161004',\n",
              "  'form_code_name': '서방성필름코팅정',\n",
              "  'mark_code_front_anal': '',\n",
              "  'mark_code_back_anal': '',\n",
              "  'mark_code_front_img': '',\n",
              "  'mark_code_back_img': '',\n",
              "  'mark_code_front': '',\n",
              "  'mark_code_back': '',\n",
              "  'change_date': '20210204',\n",
              "  'id': 1}]"
            ]
          },
          "metadata": {},
          "execution_count": 57
        }
      ]
    },
    {
      "cell_type": "code",
      "source": [
        "#이미지 전처리\n",
        "\n",
        "X_data = []\n",
        "Y_data = []\n",
        "a = \"\"\n",
        "Image.LOAD_TRUNCATED_IMAGES = True\n",
        "print(drug_label)\n",
        "try:\n",
        "    for drugName in drug_label:\n",
        "        #print(*glob.glob(f'{img_dir}/{drugName}/*.png'), sep = '\\n')\n",
        "\n",
        "        print(drugName)\n",
        "        for drugImageName in glob.glob(f'{img_dir}/{drugName}/*.png'):\n",
        "            a = drugImageName\n",
        "            #print(drugImageName)\n",
        "            img = Image.open(drugImageName)\n",
        "            img = img.convert(\"RGB\")\n",
        "            img = img.resize((img_width, img_height))\n",
        "            X_data.append(np.array(img))\n",
        "            Y_data.append(drugName)\n",
        "            #display(img)\n",
        "except:\n",
        "    #잘못된 이미지 검출\n",
        "    print(a)\n",
        "\n",
        "\n",
        "\n",
        "\n"
      ],
      "metadata": {
        "colab": {
          "base_uri": "https://localhost:8080/"
        },
        "id": "_ymA1D2iy21A",
        "outputId": "03458689-d06e-4246-d450-4635d02ca825"
      },
      "execution_count": 128,
      "outputs": [
        {
          "output_type": "stream",
          "name": "stdout",
          "text": [
            "['K-039320', 'K-039346', 'K-039504', 'K-039306', 'K-039393', 'K-039362', 'K-039338', 'K-039478', 'K-039337', 'K-039325']\n",
            "K-039320\n",
            "K-039346\n",
            "K-039504\n",
            "K-039306\n",
            "K-039393\n",
            "K-039362\n",
            "K-039338\n",
            "K-039478\n",
            "K-039337\n",
            "K-039325\n"
          ]
        }
      ]
    },
    {
      "cell_type": "code",
      "source": [
        "print(len(X_data))\n",
        "\n",
        "# 이미지 배열 저장\n",
        "np.save(drive + '/x_drug.npy', tf.keras.utils.normalize(X_data))\n",
        "np.save(drive + '/y_drug.npy', Y_data)"
      ],
      "metadata": {
        "colab": {
          "base_uri": "https://localhost:8080/"
        },
        "id": "LE5s9p_uujAh",
        "outputId": "ff0f1386-c76e-4401-afe0-8f1b30d6ef39"
      },
      "execution_count": 134,
      "outputs": [
        {
          "output_type": "stream",
          "name": "stdout",
          "text": [
            "2266\n"
          ]
        }
      ]
    },
    {
      "cell_type": "code",
      "source": [],
      "metadata": {
        "id": "TwtUCE96tfMe"
      },
      "execution_count": null,
      "outputs": []
    }
  ]
}