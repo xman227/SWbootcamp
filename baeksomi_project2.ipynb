{
  "nbformat": 4,
  "nbformat_minor": 0,
  "metadata": {
    "colab": {
      "provenance": [],
      "authorship_tag": "ABX9TyN4xZGrD9JMb9LbtcysbAZP",
      "include_colab_link": true
    },
    "kernelspec": {
      "name": "python3",
      "display_name": "Python 3"
    },
    "language_info": {
      "name": "python"
    }
  },
  "cells": [
    {
      "cell_type": "markdown",
      "metadata": {
        "id": "view-in-github",
        "colab_type": "text"
      },
      "source": [
        "<a href=\"https://colab.research.google.com/github/xman227/SWbootcamp/blob/main/baeksomi_project2.ipynb\" target=\"_parent\"><img src=\"https://colab.research.google.com/assets/colab-badge.svg\" alt=\"Open In Colab\"/></a>"
      ]
    },
    {
      "cell_type": "markdown",
      "source": [
        "이미지 데이터 전처리 및 데이터 확인\\\n",
        "이미지 처리 기술을 활용하여 경구 약제 이미지 분류\n"
      ],
      "metadata": {
        "id": "MCzWjXlzf_90"
      }
    },
    {
      "cell_type": "code",
      "source": [],
      "metadata": {
        "id": "Co3CcZ2HgHYd"
      },
      "execution_count": null,
      "outputs": []
    }
  ]
}