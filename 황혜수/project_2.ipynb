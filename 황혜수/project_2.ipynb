{
  "nbformat": 4,
  "nbformat_minor": 0,
  "metadata": {
    "colab": {
      "provenance": []
    },
    "kernelspec": {
      "name": "python3",
      "display_name": "Python 3"
    },
    "language_info": {
      "name": "python"
    }
  },
  "cells": [
    {
      "cell_type": "code",
      "execution_count": null,
      "metadata": {
        "id": "8iDCETOVozhd"
      },
      "outputs": [],
      "source": [
        "import numpy as np\n",
        "import os\n",
        "import PIL\n",
        "import PIL.Image\n",
        "import tensorflow as tf\n",
        "import tensorflow_datasets as tfds"
      ]
    },
    {
      "cell_type": "code",
      "source": [
        "from google.colab import drive\n",
        "drive.mount('/content/drive')"
      ],
      "metadata": {
        "colab": {
          "base_uri": "https://localhost:8080/"
        },
        "id": "ZbktazI81744",
        "outputId": "9bc7a710-0b18-46f1-8520-3bfb51550714"
      },
      "execution_count": 3,
      "outputs": [
        {
          "output_type": "stream",
          "name": "stdout",
          "text": [
            "Drive already mounted at /content/drive; to attempt to forcibly remount, call drive.mount(\"/content/drive\", force_remount=True).\n"
          ]
        }
      ]
    },
    {
      "cell_type": "code",
      "source": [
        "cd /content/drive/MyDrive/라_VL_1_조합"
      ],
      "metadata": {
        "colab": {
          "base_uri": "https://localhost:8080/"
        },
        "id": "k2m9Gzsa2IRR",
        "outputId": "cf52a94f-53ec-43ff-c20b-5f3204000e4d"
      },
      "execution_count": 8,
      "outputs": [
        {
          "output_type": "stream",
          "name": "stdout",
          "text": [
            "/content/drive/MyDrive/라_VL_1_조합\n"
          ]
        }
      ]
    },
    {
      "cell_type": "code",
      "source": [
        "import pandas as pd\n",
        "df_json = pd.read_json('/content/drive/MyDrive/라_VL_1_조합/K-016235-027733-029667-031885_json/K-016235/K-016235-027733-029667-031885_0_2_0_2_70_000_200.json')\n",
        "df_json"
      ],
      "metadata": {
        "colab": {
          "base_uri": "https://localhost:8080/",
          "height": 142
        },
        "id": "aJeK3If83uzs",
        "outputId": "c3bf6554-f295-4b0d-aecb-f9f759dac24a"
      },
      "execution_count": 14,
      "outputs": [
        {
          "output_type": "execute_result",
          "data": {
            "text/plain": [
              "                                              images       type  \\\n",
              "0  {'file_name': 'K-016235-027733-029667-031885_0...  instances   \n",
              "\n",
              "                                         annotations  \\\n",
              "0  {'area': 45108, 'iscrowd': 0, 'bbox': [116, 26...   \n",
              "\n",
              "                                          categories  \n",
              "0  {'supercategory': 'pill', 'id': 1, 'name': 'Dr...  "
            ],
            "text/html": [
              "\n",
              "  <div id=\"df-2a1bdd43-8464-44ce-8a18-87a0329b8c32\">\n",
              "    <div class=\"colab-df-container\">\n",
              "      <div>\n",
              "<style scoped>\n",
              "    .dataframe tbody tr th:only-of-type {\n",
              "        vertical-align: middle;\n",
              "    }\n",
              "\n",
              "    .dataframe tbody tr th {\n",
              "        vertical-align: top;\n",
              "    }\n",
              "\n",
              "    .dataframe thead th {\n",
              "        text-align: right;\n",
              "    }\n",
              "</style>\n",
              "<table border=\"1\" class=\"dataframe\">\n",
              "  <thead>\n",
              "    <tr style=\"text-align: right;\">\n",
              "      <th></th>\n",
              "      <th>images</th>\n",
              "      <th>type</th>\n",
              "      <th>annotations</th>\n",
              "      <th>categories</th>\n",
              "    </tr>\n",
              "  </thead>\n",
              "  <tbody>\n",
              "    <tr>\n",
              "      <th>0</th>\n",
              "      <td>{'file_name': 'K-016235-027733-029667-031885_0...</td>\n",
              "      <td>instances</td>\n",
              "      <td>{'area': 45108, 'iscrowd': 0, 'bbox': [116, 26...</td>\n",
              "      <td>{'supercategory': 'pill', 'id': 1, 'name': 'Dr...</td>\n",
              "    </tr>\n",
              "  </tbody>\n",
              "</table>\n",
              "</div>\n",
              "      <button class=\"colab-df-convert\" onclick=\"convertToInteractive('df-2a1bdd43-8464-44ce-8a18-87a0329b8c32')\"\n",
              "              title=\"Convert this dataframe to an interactive table.\"\n",
              "              style=\"display:none;\">\n",
              "        \n",
              "  <svg xmlns=\"http://www.w3.org/2000/svg\" height=\"24px\"viewBox=\"0 0 24 24\"\n",
              "       width=\"24px\">\n",
              "    <path d=\"M0 0h24v24H0V0z\" fill=\"none\"/>\n",
              "    <path d=\"M18.56 5.44l.94 2.06.94-2.06 2.06-.94-2.06-.94-.94-2.06-.94 2.06-2.06.94zm-11 1L8.5 8.5l.94-2.06 2.06-.94-2.06-.94L8.5 2.5l-.94 2.06-2.06.94zm10 10l.94 2.06.94-2.06 2.06-.94-2.06-.94-.94-2.06-.94 2.06-2.06.94z\"/><path d=\"M17.41 7.96l-1.37-1.37c-.4-.4-.92-.59-1.43-.59-.52 0-1.04.2-1.43.59L10.3 9.45l-7.72 7.72c-.78.78-.78 2.05 0 2.83L4 21.41c.39.39.9.59 1.41.59.51 0 1.02-.2 1.41-.59l7.78-7.78 2.81-2.81c.8-.78.8-2.07 0-2.86zM5.41 20L4 18.59l7.72-7.72 1.47 1.35L5.41 20z\"/>\n",
              "  </svg>\n",
              "      </button>\n",
              "      \n",
              "  <style>\n",
              "    .colab-df-container {\n",
              "      display:flex;\n",
              "      flex-wrap:wrap;\n",
              "      gap: 12px;\n",
              "    }\n",
              "\n",
              "    .colab-df-convert {\n",
              "      background-color: #E8F0FE;\n",
              "      border: none;\n",
              "      border-radius: 50%;\n",
              "      cursor: pointer;\n",
              "      display: none;\n",
              "      fill: #1967D2;\n",
              "      height: 32px;\n",
              "      padding: 0 0 0 0;\n",
              "      width: 32px;\n",
              "    }\n",
              "\n",
              "    .colab-df-convert:hover {\n",
              "      background-color: #E2EBFA;\n",
              "      box-shadow: 0px 1px 2px rgba(60, 64, 67, 0.3), 0px 1px 3px 1px rgba(60, 64, 67, 0.15);\n",
              "      fill: #174EA6;\n",
              "    }\n",
              "\n",
              "    [theme=dark] .colab-df-convert {\n",
              "      background-color: #3B4455;\n",
              "      fill: #D2E3FC;\n",
              "    }\n",
              "\n",
              "    [theme=dark] .colab-df-convert:hover {\n",
              "      background-color: #434B5C;\n",
              "      box-shadow: 0px 1px 3px 1px rgba(0, 0, 0, 0.15);\n",
              "      filter: drop-shadow(0px 1px 2px rgba(0, 0, 0, 0.3));\n",
              "      fill: #FFFFFF;\n",
              "    }\n",
              "  </style>\n",
              "\n",
              "      <script>\n",
              "        const buttonEl =\n",
              "          document.querySelector('#df-2a1bdd43-8464-44ce-8a18-87a0329b8c32 button.colab-df-convert');\n",
              "        buttonEl.style.display =\n",
              "          google.colab.kernel.accessAllowed ? 'block' : 'none';\n",
              "\n",
              "        async function convertToInteractive(key) {\n",
              "          const element = document.querySelector('#df-2a1bdd43-8464-44ce-8a18-87a0329b8c32');\n",
              "          const dataTable =\n",
              "            await google.colab.kernel.invokeFunction('convertToInteractive',\n",
              "                                                     [key], {});\n",
              "          if (!dataTable) return;\n",
              "\n",
              "          const docLinkHtml = 'Like what you see? Visit the ' +\n",
              "            '<a target=\"_blank\" href=https://colab.research.google.com/notebooks/data_table.ipynb>data table notebook</a>'\n",
              "            + ' to learn more about interactive tables.';\n",
              "          element.innerHTML = '';\n",
              "          dataTable['output_type'] = 'display_data';\n",
              "          await google.colab.output.renderOutput(dataTable, element);\n",
              "          const docLink = document.createElement('div');\n",
              "          docLink.innerHTML = docLinkHtml;\n",
              "          element.appendChild(docLink);\n",
              "        }\n",
              "      </script>\n",
              "    </div>\n",
              "  </div>\n",
              "  "
            ]
          },
          "metadata": {},
          "execution_count": 14
        }
      ]
    },
    {
      "cell_type": "code",
      "source": [
        "import json\n",
        "\n",
        "with open(\"/content/drive/MyDrive/라_VL_1_조합/K-016235-027733-029667-031885_json/K-016235/K-016235-027733-029667-031885_0_2_0_2_70_000_200.json\", \"r\") as json_file:\n",
        "    json_load = json.load(json_file)\n",
        "json_load"
      ],
      "metadata": {
        "colab": {
          "base_uri": "https://localhost:8080/"
        },
        "id": "arYImQVa4gpF",
        "outputId": "5a21adcb-4290-4e20-ae67-dcc79fa241f2"
      },
      "execution_count": 15,
      "outputs": [
        {
          "output_type": "execute_result",
          "data": {
            "text/plain": [
              "{'images': [{'file_name': 'K-016235-027733-029667-031885_0_2_0_2_70_000_200.png',\n",
              "   'width': 976,\n",
              "   'height': 1280,\n",
              "   'imgfile': 'K-016235-027733-029667-031885_0_2_0_2_70_000_200.png',\n",
              "   'drug_N': 'K-016235',\n",
              "   'drug_S': '정상알약',\n",
              "   'back_color': '연회색 배경',\n",
              "   'drug_dir': '앞면',\n",
              "   'light_color': '주백색',\n",
              "   'camera_la': 70,\n",
              "   'camera_lo': 0,\n",
              "   'size': 200,\n",
              "   'dl_idx': '16234',\n",
              "   'dl_mapping_code': 'K-016235',\n",
              "   'dl_name': '카듀엣정 5mg/20mg',\n",
              "   'dl_name_en': 'Caduet Tab. 5mg/20mg',\n",
              "   'img_key': 'http://connectdi.com/design/img/drug/153002764366500052.jpg',\n",
              "   'dl_material': '아토르바스타틴칼슘삼수화물|암로디핀베실산염',\n",
              "   'dl_material_en': 'Amlodipine Besylate| Atorvastatin Calcium Trihydrate',\n",
              "   'dl_custom_shape': '정제, 저작정',\n",
              "   'dl_company': '한국화이자제약(주)',\n",
              "   'dl_company_en': 'Pfizer Korea',\n",
              "   'di_company_mf': 'Pfizer Manufacturing Deutschland GmbH',\n",
              "   'di_company_mf_en': '',\n",
              "   'item_seq': 200410088,\n",
              "   'di_item_permit_date': '20041123',\n",
              "   'di_class_no': '[02190]기타의 순환계용약',\n",
              "   'di_etc_otc_code': '전문의약품',\n",
              "   'di_edi_code': '648900970,E01890161',\n",
              "   'chart': '흰색의 타원형 필름 코팅정',\n",
              "   'drug_shape': '타원형',\n",
              "   'thick': 3.9,\n",
              "   'leng_long': 10.7,\n",
              "   'leng_short': 6,\n",
              "   'print_front': '마크',\n",
              "   'print_back': 'CDT052',\n",
              "   'color_class1': '하양',\n",
              "   'color_class2': '',\n",
              "   'line_front': '',\n",
              "   'line_back': '',\n",
              "   'img_regist_ts': '20070426',\n",
              "   'form_code_name': '필름코팅정',\n",
              "   'mark_code_front_anal': 'pfizer',\n",
              "   'mark_code_back_anal': '',\n",
              "   'mark_code_front_img': 'http://connectdi.com/design/img/drug/147938657883200003.jpg',\n",
              "   'mark_code_back_img': '',\n",
              "   'mark_code_front': '',\n",
              "   'mark_code_back': '',\n",
              "   'change_date': '20201124',\n",
              "   'id': 1}],\n",
              " 'type': 'instances',\n",
              " 'annotations': [{'area': 45108,\n",
              "   'iscrowd': 0,\n",
              "   'bbox': [116, 264, 252, 179],\n",
              "   'category_id': 1,\n",
              "   'ignore': 0,\n",
              "   'segmentation': [],\n",
              "   'id': 1,\n",
              "   'image_id': 1}],\n",
              " 'categories': [{'supercategory': 'pill', 'id': 1, 'name': 'Drug'}]}"
            ]
          },
          "metadata": {},
          "execution_count": 15
        }
      ]
    }
  ]
}