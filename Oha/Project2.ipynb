{
 "cells": [
  {
   "attachments": {},
   "cell_type": "markdown",
   "metadata": {},
   "source": [
    "# <span style='background-color: #fff5b1'>오늘의 한 걸음  🚶🏽‍♂️: 경구약제 이미지 분류</span>\n",
    "\n",
    "## Contexts\n",
    "\n",
    "### 1. READY\n",
    "    1-1 오늘의 Exp와 Rubric  \n",
    "    1-2 사용하는 라이브러리  \n",
    "\n",
    "### 2. GAME\n",
    "    2-1. 데이터 읽어오기  \n",
    "    2-2. 데이터 전처리  \n",
    "    2-3. 모델 학습  \n",
    "    2-4. 데이터 평가   \n",
    "\n",
    "### 3. POTG\n",
    "    3-1. 소감\n",
    "    3-2. 어려웠던 점과 극복방안  \n",
    "    3-3. 추후  \n",
    "\n",
    "---\n"
   ]
  },
  {
   "attachments": {},
   "cell_type": "markdown",
   "metadata": {},
   "source": [
    "# 1. Ready\n",
    "## 1-1. 오늘의 Exp와 Rubric"
   ]
  },
  {
   "attachments": {},
   "cell_type": "markdown",
   "metadata": {},
   "source": [
    "우리나라에서는 AI Hub 라는 웹페이지에서  \n",
    "다양한 이미지를 제공하고 있다. \n",
    "\n",
    "이번에 우리가 다룰 데이터는 경구약제 이미지 데이터이다.\n",
    "경구약 (삼켜서 먹는 알약) 제품 약 5000종의 사진이  \n",
    "한 종류당 약 1250장.\n",
    "\n",
    "도합 2백만 장의 약 사진 및 메타 데이터를 가지고 있다\n",
    "\n",
    "자료 : <a href='https://aihub.or.kr/aihubdata/data/view.do?currMenu=115&topMenu=100&aihubDataSe=realm&dataSetSn=576'>AI_Hub : 경구약제 이미지 데이터</a>\n",
    "\n",
    "시각장애인 혹은 사회적 약자들은 약을 섭취함에 있어서  \n",
    "섭취를 혼동하거나 남용하는 문제와 직면한다.\n",
    "\n",
    "이번 Exp 는 경구약제 약품을 분류하고 식별 결과를 안내할 수 있는 AI 분류기를 만드는 것이다!\n",
    "\n",
    "우선 기술상의 문제로\n",
    "1TB가 넘는 용량의 사진을 모두 이용하기에 부담이 커서  \n",
    "\n",
    "Traininig data set 에 있는 1250장의 사진 데이터를 이용하기로 했다."
   ]
  },
  {
   "cell_type": "code",
   "execution_count": null,
   "metadata": {},
   "outputs": [],
   "source": []
  },
  {
   "attachments": {},
   "cell_type": "markdown",
   "metadata": {},
   "source": [
    "## 1-2. 사용하는 라이브러리"
   ]
  },
  {
   "cell_type": "code",
   "execution_count": 32,
   "metadata": {},
   "outputs": [],
   "source": [
    "import os\n",
    "import json\n",
    "import glob\n",
    "import pandas as pd\n"
   ]
  },
  {
   "attachments": {},
   "cell_type": "markdown",
   "metadata": {},
   "source": [
    "# 2. GAME\n",
    "## 2-1. 데이터 읽어오기\n",
    "\n",
    "일단 어떤 meta data 가 있는지 직접 눈으로 확인해보았다."
   ]
  },
  {
   "cell_type": "code",
   "execution_count": 5,
   "metadata": {},
   "outputs": [],
   "source": [
    "combined = []\n",
    "\n",
    "\n",
    "for json_file in glob.glob(\"./pills/pills_data/data/Training/label/pills_5000/TL_81/K-038884_json/K-038884_0_0_0_0_75_000_200.json\") : \n",
    "\n",
    "    with open(json_file, \"rb\") as infile:\n",
    "\n",
    "        combined.append(json.load(infile))\n"
   ]
  },
  {
   "cell_type": "code",
   "execution_count": 8,
   "metadata": {},
   "outputs": [
    {
     "data": {
      "text/plain": [
       "str"
      ]
     },
     "execution_count": 8,
     "metadata": {},
     "output_type": "execute_result"
    }
   ],
   "source": [
    "type(json_file)"
   ]
  },
  {
   "cell_type": "code",
   "execution_count": 6,
   "metadata": {},
   "outputs": [
    {
     "data": {
      "text/plain": [
       "[{'images': [{'file_name': 'K-038884_0_0_0_0_75_000_200.png',\n",
       "    'width': 976,\n",
       "    'height': 1280,\n",
       "    'imgfile': 'K-038884_0_0_0_0_75_000_200.png',\n",
       "    'drug_N': 'K-038884',\n",
       "    'drug_S': '정상알약',\n",
       "    'back_color': '검은색 배경',\n",
       "    'drug_dir': '앞면',\n",
       "    'light_color': '전구색',\n",
       "    'camera_la': 75,\n",
       "    'camera_lo': 0,\n",
       "    'size': 200,\n",
       "    'item_seq': '201602513',\n",
       "    'leng_long': '6.2',\n",
       "    'leng_short': '6.2',\n",
       "    'thick': '3.05',\n",
       "    'id': 1,\n",
       "    'dl_idx': '38883',\n",
       "    'dl_mapping_code': 'K-038884',\n",
       "    'dl_name': '에피나레정',\n",
       "    'dl_name_en': 'Epinare Tab.',\n",
       "    'img_key': 'http://connectdi.com/design/img/drug/1NOwp2F69E9.jpg',\n",
       "    'dl_material': '에피나스틴염산염',\n",
       "    'dl_material_en': 'Epinastine Hydrochloride',\n",
       "    'dl_custom_shape': '정제, 저작정',\n",
       "    'dl_company': '제이더블유신약(주)',\n",
       "    'dl_company_en': 'Jw Shinyak',\n",
       "    'di_company_mf': '삼천당제약(주)',\n",
       "    'di_company_mf_en': 'Scd Pharm',\n",
       "    'di_item_permit_date': '20160504',\n",
       "    'di_class_no': '[01490]기타의 알레르기용약',\n",
       "    'di_etc_otc_code': '전문의약품',\n",
       "    'di_edi_code': '644102890',\n",
       "    'chart': '흰색 또는 미황색의 원형필름코팅정제',\n",
       "    'drug_shape': '원형',\n",
       "    'print_front': 'E',\n",
       "    'print_back': '10',\n",
       "    'color_class1': '하양',\n",
       "    'color_class2': '',\n",
       "    'line_front': '',\n",
       "    'line_back': '',\n",
       "    'img_regist_ts': '20160829',\n",
       "    'form_code_name': '필름코팅정',\n",
       "    'mark_code_front_anal': '',\n",
       "    'mark_code_back_anal': '',\n",
       "    'mark_code_front_img': '',\n",
       "    'mark_code_back_img': '',\n",
       "    'mark_code_front': '',\n",
       "    'mark_code_back': '',\n",
       "    'change_date': '20200921'}],\n",
       "  'type': 'instances',\n",
       "  'annotations': [{'area': 24024,\n",
       "    'iscrowd': 0,\n",
       "    'bbox': [420, 565, 154, 156],\n",
       "    'category_id': 1,\n",
       "    'ignore': 0,\n",
       "    'segmentation': [],\n",
       "    'id': 1,\n",
       "    'image_id': 1}],\n",
       "  'categories': [{'supercategory': 'pill', 'id': 1, 'name': 'Drug'}]}]"
      ]
     },
     "execution_count": 6,
     "metadata": {},
     "output_type": "execute_result"
    }
   ],
   "source": [
    "combined"
   ]
  },
  {
   "attachments": {},
   "cell_type": "markdown",
   "metadata": {},
   "source": [
    "약에 대해 알려주는 많은 데이터가 있었지만,  \n",
    "우리의 경우 이미지 분류를 할 것이기 떄문에  \n",
    "연동된 이미지 경로와 이름만을 뽑아내려고 계획했다.\n",
    "\n",
    "따라서 json 내부에 두 데이터를 뽑아 csv 파일로 만들어 저장했다."
   ]
  },
  {
   "cell_type": "code",
   "execution_count": 69,
   "metadata": {},
   "outputs": [],
   "source": [
    "PATH = './pills/pills_data/data/Training/label/pills_5000/TL_81/'\n",
    "\n",
    "def save_csv(PATH, name):\n",
    "    \"\"\"\n",
    "    지정한 경로의 경구약제 json 파일을\n",
    "    name 이름으로 csv 저장\n",
    "\n",
    "    Args:\n",
    "        PATH (_str_): 초기 경로\n",
    "        name (_str_): 이름\n",
    "    \"\"\"\n",
    "    files = os.listdir(PATH)\n",
    "\n",
    "    cnt = 0\n",
    "    pills_df = pd.DataFrame({'file':[],\n",
    "                                'dl_name':[]}) # DataFrame\n",
    "    for file_name in files:\n",
    "        json_path = os.listdir(PATH + file_name)\n",
    "\n",
    "        for json_data in json_path:\n",
    "            json_file =  glob.glob(PATH + file_name +'/'+ json_data )[0]\n",
    "            with open(json_file, \"rb\") as infile:\n",
    "                data = json.load(infile)\n",
    "                file = data['images'][0]['file_name']\n",
    "                dl_name = data['images'][0]['dl_name']\n",
    "                pills_df = pills_df.append({'file':[file], 'dl_name':[dl_name]}, ignore_index=True)\n",
    "    \n",
    "    pills_df.to_csv(name)\n",
    "    return\n",
    "\n",
    "save_csv(PATH, 'label.csv')\n"
   ]
  },
  {
   "cell_type": "code",
   "execution_count": 74,
   "metadata": {},
   "outputs": [
    {
     "data": {
      "text/html": [
       "<div>\n",
       "<style scoped>\n",
       "    .dataframe tbody tr th:only-of-type {\n",
       "        vertical-align: middle;\n",
       "    }\n",
       "\n",
       "    .dataframe tbody tr th {\n",
       "        vertical-align: top;\n",
       "    }\n",
       "\n",
       "    .dataframe thead th {\n",
       "        text-align: right;\n",
       "    }\n",
       "</style>\n",
       "<table border=\"1\" class=\"dataframe\">\n",
       "  <thead>\n",
       "    <tr style=\"text-align: right;\">\n",
       "      <th></th>\n",
       "      <th>Unnamed: 0</th>\n",
       "      <th>file</th>\n",
       "      <th>name</th>\n",
       "      <th>dl_name</th>\n",
       "    </tr>\n",
       "  </thead>\n",
       "  <tbody>\n",
       "    <tr>\n",
       "      <th>0</th>\n",
       "      <td>0</td>\n",
       "      <td>['K-038884_0_0_0_0_75_000_200.png']</td>\n",
       "      <td>NaN</td>\n",
       "      <td>['에피나레정']</td>\n",
       "    </tr>\n",
       "    <tr>\n",
       "      <th>1</th>\n",
       "      <td>1</td>\n",
       "      <td>['K-038884_0_0_0_0_75_020_200.png']</td>\n",
       "      <td>NaN</td>\n",
       "      <td>['에피나레정']</td>\n",
       "    </tr>\n",
       "    <tr>\n",
       "      <th>2</th>\n",
       "      <td>2</td>\n",
       "      <td>['K-038884_0_0_0_0_75_040_200.png']</td>\n",
       "      <td>NaN</td>\n",
       "      <td>['에피나레정']</td>\n",
       "    </tr>\n",
       "    <tr>\n",
       "      <th>3</th>\n",
       "      <td>3</td>\n",
       "      <td>['K-038884_0_0_0_0_75_060_200.png']</td>\n",
       "      <td>NaN</td>\n",
       "      <td>['에피나레정']</td>\n",
       "    </tr>\n",
       "    <tr>\n",
       "      <th>4</th>\n",
       "      <td>4</td>\n",
       "      <td>['K-038884_0_0_0_0_75_080_200.png']</td>\n",
       "      <td>NaN</td>\n",
       "      <td>['에피나레정']</td>\n",
       "    </tr>\n",
       "    <tr>\n",
       "      <th>...</th>\n",
       "      <td>...</td>\n",
       "      <td>...</td>\n",
       "      <td>...</td>\n",
       "      <td>...</td>\n",
       "    </tr>\n",
       "    <tr>\n",
       "      <th>9607</th>\n",
       "      <td>9607</td>\n",
       "      <td>['K-039147_0_2_1_2_90_260_200.png']</td>\n",
       "      <td>NaN</td>\n",
       "      <td>['듀카브정30/10밀리그램']</td>\n",
       "    </tr>\n",
       "    <tr>\n",
       "      <th>9608</th>\n",
       "      <td>9608</td>\n",
       "      <td>['K-039147_0_2_1_2_90_280_200.png']</td>\n",
       "      <td>NaN</td>\n",
       "      <td>['듀카브정30/10밀리그램']</td>\n",
       "    </tr>\n",
       "    <tr>\n",
       "      <th>9609</th>\n",
       "      <td>9609</td>\n",
       "      <td>['K-039147_0_2_1_2_90_300_200.png']</td>\n",
       "      <td>NaN</td>\n",
       "      <td>['듀카브정30/10밀리그램']</td>\n",
       "    </tr>\n",
       "    <tr>\n",
       "      <th>9610</th>\n",
       "      <td>9610</td>\n",
       "      <td>['K-039147_0_2_1_2_90_320_200.png']</td>\n",
       "      <td>NaN</td>\n",
       "      <td>['듀카브정30/10밀리그램']</td>\n",
       "    </tr>\n",
       "    <tr>\n",
       "      <th>9611</th>\n",
       "      <td>9611</td>\n",
       "      <td>['K-039147_0_2_1_2_90_340_200.png']</td>\n",
       "      <td>NaN</td>\n",
       "      <td>['듀카브정30/10밀리그램']</td>\n",
       "    </tr>\n",
       "  </tbody>\n",
       "</table>\n",
       "<p>9612 rows × 4 columns</p>\n",
       "</div>"
      ],
      "text/plain": [
       "      Unnamed: 0                                 file  name            dl_name\n",
       "0              0  ['K-038884_0_0_0_0_75_000_200.png']   NaN          ['에피나레정']\n",
       "1              1  ['K-038884_0_0_0_0_75_020_200.png']   NaN          ['에피나레정']\n",
       "2              2  ['K-038884_0_0_0_0_75_040_200.png']   NaN          ['에피나레정']\n",
       "3              3  ['K-038884_0_0_0_0_75_060_200.png']   NaN          ['에피나레정']\n",
       "4              4  ['K-038884_0_0_0_0_75_080_200.png']   NaN          ['에피나레정']\n",
       "...          ...                                  ...   ...                ...\n",
       "9607        9607  ['K-039147_0_2_1_2_90_260_200.png']   NaN  ['듀카브정30/10밀리그램']\n",
       "9608        9608  ['K-039147_0_2_1_2_90_280_200.png']   NaN  ['듀카브정30/10밀리그램']\n",
       "9609        9609  ['K-039147_0_2_1_2_90_300_200.png']   NaN  ['듀카브정30/10밀리그램']\n",
       "9610        9610  ['K-039147_0_2_1_2_90_320_200.png']   NaN  ['듀카브정30/10밀리그램']\n",
       "9611        9611  ['K-039147_0_2_1_2_90_340_200.png']   NaN  ['듀카브정30/10밀리그램']\n",
       "\n",
       "[9612 rows x 4 columns]"
      ]
     },
     "execution_count": 74,
     "metadata": {},
     "output_type": "execute_result"
    }
   ],
   "source": [
    "df = pd.read_csv('label.csv')\n",
    "df"
   ]
  },
  {
   "cell_type": "code",
   "execution_count": null,
   "metadata": {},
   "outputs": [],
   "source": [
    "import pandas as df\n",
    "df.drop('variety', axis=1)"
   ]
  },
  {
   "attachments": {},
   "cell_type": "markdown",
   "metadata": {},
   "source": [
    "## 2-2. 데이터 전처리"
   ]
  },
  {
   "cell_type": "code",
   "execution_count": null,
   "metadata": {},
   "outputs": [],
   "source": []
  },
  {
   "attachments": {},
   "cell_type": "markdown",
   "metadata": {},
   "source": [
    "## 2-3. 모델 학습"
   ]
  },
  {
   "cell_type": "code",
   "execution_count": null,
   "metadata": {},
   "outputs": [],
   "source": []
  },
  {
   "attachments": {},
   "cell_type": "markdown",
   "metadata": {},
   "source": [
    "## 2-4. 데이터 평가"
   ]
  },
  {
   "attachments": {},
   "cell_type": "markdown",
   "metadata": {},
   "source": [
    "# 3. POTG\n",
    "## 3-1. 소감"
   ]
  },
  {
   "cell_type": "code",
   "execution_count": null,
   "metadata": {},
   "outputs": [],
   "source": []
  },
  {
   "attachments": {},
   "cell_type": "markdown",
   "metadata": {},
   "source": [
    "## 3-2. 어려웠던 점과 극복방안"
   ]
  },
  {
   "cell_type": "markdown",
   "metadata": {},
   "source": []
  },
  {
   "attachments": {},
   "cell_type": "markdown",
   "metadata": {},
   "source": [
    "## 3-3. 추후"
   ]
  }
 ],
 "metadata": {
  "kernelspec": {
   "display_name": "Python 3",
   "language": "python",
   "name": "python3"
  },
  "language_info": {
   "codemirror_mode": {
    "name": "ipython",
    "version": 3
   },
   "file_extension": ".py",
   "mimetype": "text/x-python",
   "name": "python",
   "nbconvert_exporter": "python",
   "pygments_lexer": "ipython3",
   "version": "3.10.1"
  },
  "orig_nbformat": 4,
  "vscode": {
   "interpreter": {
    "hash": "acf61029c60ecddcf4c5fb8e9e05647c40915d4fd9295be9f6d34ee655fa00f2"
   }
  }
 },
 "nbformat": 4,
 "nbformat_minor": 2
}
